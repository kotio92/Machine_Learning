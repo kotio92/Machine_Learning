{
 "cells": [
  {
   "cell_type": "markdown",
   "metadata": {},
   "source": [
    "# Principal Component Analysis\n",
    "\n",
    "Come abbiamo potuto vedere, la dimensionalità del dataset corrisponde al numero di features che esso contiene.<br><br>\n",
    "Dunque ridurre la dimensionalità vuol dire ridurre il numero di features per passare a uno spazio dimensionale inferiore.<br><br> \n",
    "La **Principal Component Analysis (PCA)** è la tecnica di riduzione della dimensionalità non supervisionata più diffusa."
   ]
  },
  {
   "cell_type": "markdown",
   "metadata": {},
   "source": [
    "#### Perchè ridurre la dimensionalità ?\n",
    "* Meno dimensioni vuol dire meno features, e meno features vuol dire meno pesi da ottimizzare. Dunque meno sforzo computazionale e maggiore velocità per il processo.\n",
    "* Per agevolare la visualizzazione grafica."
   ]
  },
  {
   "cell_type": "markdown",
   "metadata": {},
   "source": [
    "#### Tecniche di PCA: Features Selection\n",
    "Consiste nello scartare, fra le features del dataset, quelle che riteniamo meno utili per la nostra analisi."
   ]
  },
  {
   "cell_type": "markdown",
   "metadata": {},
   "source": [
    "#### Tecniche di PCA: Features Extraction\n",
    "Consiste nel generare, a partire dalle features del dataset, delle nuove features, attraverso una combinazione lineare delle prime (previa standardizzazione delle stesse)."
   ]
  },
  {
   "cell_type": "markdown",
   "metadata": {},
   "source": [
    "#### PCA\n",
    "La PCA è la tecnica di riduzione della dimensionalità non supervisionata più utilizzata; in sintesi, comprime proprietà che sono correlate fra loro in un'unica proprietà,\n",
    "e lo fa identificando le direzioni di maggiore varianza nei dati, che vengono chiamate **componenti principali** (dall'inglese principal components), in quanto sono ritenute le proprietà che detengono maggiore informazione.<br><br>\n",
    "La prima componente principale è la direzione di maggior varianza, le altre sono le direzioni di maggior varianza ortogonali alle precedenti. L'ortogonalità ci assicura che ogni componente sia indipendente dalle altre e quindi contenga informazioni differente.\n",
    "<img src=\"pca.png\" width=\"400px\"/>\n",
    "Nell'ambito della riduzione della dimensionalità, come faccio a decidere quante mantenerne ?\n",
    "* **Definizione manuale a priori**: lo decidiamo prima. Semplice.\n",
    "<br>\n",
    "* **Definizione di un valore minimo della varianza**: definizione di un valore minimo della varianza da mantenere a seguito della riduzione dimensionale, per cui è naturale conseguenza selezionare il numero di componenti principali.\n",
    "<br><br>\n",
    "La PCA, come le altre tecniche di riduzione della dimensionalità, può essere utilizzata principlamente per due scopi, visualizzare i dati in 2 o 3 dimensioni oppure velocizzare la fase di addestramento, in questo notebook li vedremo entrambi.<br>\n",
    "Importiamo le librerie che utilizzeremo."
   ]
  },
  {
   "cell_type": "code",
   "execution_count": 2,
   "metadata": {
    "colab": {},
    "colab_type": "code",
    "id": "qJ1n2GvRht7-"
   },
   "outputs": [],
   "source": [
    "import numpy as np\n",
    "import pandas as pd\n",
    "import matplotlib.pyplot as plt\n",
    "from sklearn.preprocessing import StandardScaler, LabelEncoder, MinMaxScaler\n",
    "from sklearn.metrics import accuracy_score, log_loss\n",
    "from sklearn.linear_model import LogisticRegression\n",
    "import time\n",
    "import seaborn as sns"
   ]
  },
  {
   "cell_type": "markdown",
   "metadata": {
    "colab_type": "text",
    "id": "EnWqROKLBDXS"
   },
   "source": [
    "# PCA per creare visualizzazioni\n",
    "Il dataset che utilizzeremo è il Wine Dataset, un dataset di vini contenente 13 proprietà che permettono di suddivedere i vini in 3 differenti categorie. \n",
    "<br>\n",
    "Un dataset con 13 proprietà ha 13 dimensioni, ma noi possiamo visualizzare i dati in 2, massimo 3, dimensioni. Applichiamo la PCA al Wine Dataset per eseguire una riduzione dimensionale da 13 a 2 dimensioni.\n",
    "<br><br>\n",
    "Cominciamo importando il dataset dalla repository."
   ]
  },
  {
   "cell_type": "code",
   "execution_count": 3,
   "metadata": {
    "colab": {
     "base_uri": "https://localhost:8080/",
     "height": 206
    },
    "colab_type": "code",
    "id": "9rq1O3kOjMNN",
    "outputId": "0c8b96b3-a853-44c3-b26d-108b19cf3b74"
   },
   "outputs": [
    {
     "data": {
      "text/html": [
       "<div>\n",
       "<style scoped>\n",
       "    .dataframe tbody tr th:only-of-type {\n",
       "        vertical-align: middle;\n",
       "    }\n",
       "\n",
       "    .dataframe tbody tr th {\n",
       "        vertical-align: top;\n",
       "    }\n",
       "\n",
       "    .dataframe thead th {\n",
       "        text-align: right;\n",
       "    }\n",
       "</style>\n",
       "<table border=\"1\" class=\"dataframe\">\n",
       "  <thead>\n",
       "    <tr style=\"text-align: right;\">\n",
       "      <th></th>\n",
       "      <th>label</th>\n",
       "      <th>alcol</th>\n",
       "      <th>acido malico</th>\n",
       "      <th>cenere</th>\n",
       "      <th>alcalinità della cenere</th>\n",
       "      <th>magnesio</th>\n",
       "      <th>fenoli totali</th>\n",
       "      <th>flavonoidi</th>\n",
       "      <th>fenoli non-flavonoidi</th>\n",
       "      <th>proantocianidine</th>\n",
       "      <th>intensità del colore</th>\n",
       "      <th>tonalità</th>\n",
       "      <th>OD280/OD315 dei vini diluiti</th>\n",
       "      <th>prolina</th>\n",
       "    </tr>\n",
       "  </thead>\n",
       "  <tbody>\n",
       "    <tr>\n",
       "      <th>0</th>\n",
       "      <td>1</td>\n",
       "      <td>14.23</td>\n",
       "      <td>1.71</td>\n",
       "      <td>2.43</td>\n",
       "      <td>15.6</td>\n",
       "      <td>127</td>\n",
       "      <td>2.80</td>\n",
       "      <td>3.06</td>\n",
       "      <td>0.28</td>\n",
       "      <td>2.29</td>\n",
       "      <td>5.64</td>\n",
       "      <td>1.04</td>\n",
       "      <td>3.92</td>\n",
       "      <td>1065</td>\n",
       "    </tr>\n",
       "    <tr>\n",
       "      <th>1</th>\n",
       "      <td>1</td>\n",
       "      <td>13.20</td>\n",
       "      <td>1.78</td>\n",
       "      <td>2.14</td>\n",
       "      <td>11.2</td>\n",
       "      <td>100</td>\n",
       "      <td>2.65</td>\n",
       "      <td>2.76</td>\n",
       "      <td>0.26</td>\n",
       "      <td>1.28</td>\n",
       "      <td>4.38</td>\n",
       "      <td>1.05</td>\n",
       "      <td>3.40</td>\n",
       "      <td>1050</td>\n",
       "    </tr>\n",
       "    <tr>\n",
       "      <th>2</th>\n",
       "      <td>1</td>\n",
       "      <td>13.16</td>\n",
       "      <td>2.36</td>\n",
       "      <td>2.67</td>\n",
       "      <td>18.6</td>\n",
       "      <td>101</td>\n",
       "      <td>2.80</td>\n",
       "      <td>3.24</td>\n",
       "      <td>0.30</td>\n",
       "      <td>2.81</td>\n",
       "      <td>5.68</td>\n",
       "      <td>1.03</td>\n",
       "      <td>3.17</td>\n",
       "      <td>1185</td>\n",
       "    </tr>\n",
       "    <tr>\n",
       "      <th>3</th>\n",
       "      <td>1</td>\n",
       "      <td>14.37</td>\n",
       "      <td>1.95</td>\n",
       "      <td>2.50</td>\n",
       "      <td>16.8</td>\n",
       "      <td>113</td>\n",
       "      <td>3.85</td>\n",
       "      <td>3.49</td>\n",
       "      <td>0.24</td>\n",
       "      <td>2.18</td>\n",
       "      <td>7.80</td>\n",
       "      <td>0.86</td>\n",
       "      <td>3.45</td>\n",
       "      <td>1480</td>\n",
       "    </tr>\n",
       "    <tr>\n",
       "      <th>4</th>\n",
       "      <td>1</td>\n",
       "      <td>13.24</td>\n",
       "      <td>2.59</td>\n",
       "      <td>2.87</td>\n",
       "      <td>21.0</td>\n",
       "      <td>118</td>\n",
       "      <td>2.80</td>\n",
       "      <td>2.69</td>\n",
       "      <td>0.39</td>\n",
       "      <td>1.82</td>\n",
       "      <td>4.32</td>\n",
       "      <td>1.04</td>\n",
       "      <td>2.93</td>\n",
       "      <td>735</td>\n",
       "    </tr>\n",
       "  </tbody>\n",
       "</table>\n",
       "</div>"
      ],
      "text/plain": [
       "   label  alcol  acido malico  cenere  alcalinità della cenere  magnesio  \\\n",
       "0      1  14.23          1.71    2.43                     15.6       127   \n",
       "1      1  13.20          1.78    2.14                     11.2       100   \n",
       "2      1  13.16          2.36    2.67                     18.6       101   \n",
       "3      1  14.37          1.95    2.50                     16.8       113   \n",
       "4      1  13.24          2.59    2.87                     21.0       118   \n",
       "\n",
       "   fenoli totali  flavonoidi  fenoli non-flavonoidi  proantocianidine  \\\n",
       "0           2.80        3.06                   0.28              2.29   \n",
       "1           2.65        2.76                   0.26              1.28   \n",
       "2           2.80        3.24                   0.30              2.81   \n",
       "3           3.85        3.49                   0.24              2.18   \n",
       "4           2.80        2.69                   0.39              1.82   \n",
       "\n",
       "   intensità del colore  tonalità  OD280/OD315 dei vini diluiti  prolina  \n",
       "0                  5.64      1.04                          3.92     1065  \n",
       "1                  4.38      1.05                          3.40     1050  \n",
       "2                  5.68      1.03                          3.17     1185  \n",
       "3                  7.80      0.86                          3.45     1480  \n",
       "4                  4.32      1.04                          2.93      735  "
      ]
     },
     "execution_count": 3,
     "metadata": {},
     "output_type": "execute_result"
    }
   ],
   "source": [
    "cols = [\"label\",\"alcol\",\"acido malico\",\"cenere\",\"alcalinità della cenere\",\"magnesio\",\n",
    "        \"fenoli totali\",\"flavonoidi\",\"fenoli non-flavonoidi\",\"proantocianidine\", \n",
    "        \"intensità del colore\",\"tonalità\", \"OD280/OD315 dei vini diluiti\",\"prolina\"]\n",
    "\n",
    "\n",
    "wines = pd.read_csv(\"https://archive.ics.uci.edu/ml/machine-learning-databases/wine/wine.data\", \n",
    "                 names=cols)\n",
    "\n",
    "wines.head()"
   ]
  },
  {
   "cell_type": "code",
   "execution_count": 4,
   "metadata": {},
   "outputs": [
    {
     "data": {
      "text/plain": [
       "label                               0.600679\n",
       "alcol                               0.659062\n",
       "acido malico                        1.248015\n",
       "cenere                              0.075265\n",
       "alcalinità della cenere            11.152686\n",
       "magnesio                          203.989335\n",
       "fenoli totali                       0.391690\n",
       "flavonoidi                          0.997719\n",
       "fenoli non-flavonoidi               0.015489\n",
       "proantocianidine                    0.327595\n",
       "intensità del colore                5.374449\n",
       "tonalità                            0.052245\n",
       "OD280/OD315 dei vini diluiti        0.504086\n",
       "prolina                         99166.717355\n",
       "dtype: float64"
      ]
     },
     "execution_count": 4,
     "metadata": {},
     "output_type": "execute_result"
    }
   ],
   "source": [
    "wines.var(axis=0)              # varianza, per ogni feature"
   ]
  },
  {
   "cell_type": "markdown",
   "metadata": {},
   "source": [
    "Settiamo seaborn per renderle più eleganti le visualizzazioni che andremo a creare."
   ]
  },
  {
   "cell_type": "code",
   "execution_count": 5,
   "metadata": {},
   "outputs": [],
   "source": [
    "sns.set()"
   ]
  },
  {
   "cell_type": "markdown",
   "metadata": {},
   "source": [
    "Creiamo gli array numpy, dato che il nostro scopo è solo quello di visualizzare i dati e non creare un modello possiamo anche non dividerli in set di addestramento e test."
   ]
  },
  {
   "cell_type": "code",
   "execution_count": 6,
   "metadata": {
    "colab": {},
    "colab_type": "code",
    "id": "FWGMAXc0jpfh"
   },
   "outputs": [],
   "source": [
    "X = wines.drop(\"label\", axis=1)\n",
    "y = wines[\"label\"]"
   ]
  },
  {
   "cell_type": "markdown",
   "metadata": {},
   "source": [
    "Prima di applicare la PCA dobbiamo essere **SICURISSIMI** che i dati siano su una scala comune, quindi eseguiamo al standardizzazione."
   ]
  },
  {
   "cell_type": "code",
   "execution_count": 7,
   "metadata": {
    "colab": {},
    "colab_type": "code",
    "id": "lSs-51rzo42S"
   },
   "outputs": [],
   "source": [
    "sc = StandardScaler()\n",
    "X = sc.fit_transform(X)"
   ]
  },
  {
   "cell_type": "markdown",
   "metadata": {},
   "source": [
    "Adesso possiamo eseguire la Principal Component Analysis utilizzando la classe PCA di sklearn specificando il numero di componenti desiderate, cioè 2, all'interno del costruttore."
   ]
  },
  {
   "cell_type": "code",
   "execution_count": 8,
   "metadata": {
    "colab": {},
    "colab_type": "code",
    "id": "5vbP-COopeNv"
   },
   "outputs": [],
   "source": [
    "from sklearn.decomposition import PCA\n",
    "\n",
    "pca = PCA(n_components=2)\n",
    "\n",
    "X_pc = pca.fit_transform(X)"
   ]
  },
  {
   "cell_type": "markdown",
   "metadata": {},
   "source": [
    "Utilizziamo matplotlib per visualizzare le due componenti su di uno scatter plot."
   ]
  },
  {
   "cell_type": "code",
   "execution_count": 9,
   "metadata": {
    "colab": {
     "base_uri": "https://localhost:8080/",
     "height": 370
    },
    "colab_type": "code",
    "id": "x0uD2Wq0upxu",
    "outputId": "a8986c8a-54ff-4987-c643-6ccb307c6a08"
   },
   "outputs": [
    {
     "data": {
      "text/plain": [
       "<matplotlib.collections.PathCollection at 0x21bd88edfc8>"
      ]
     },
     "execution_count": 9,
     "metadata": {},
     "output_type": "execute_result"
    },
    {
     "data": {
      "image/png": "[encoded data removed]",
      "text/plain": [
       "<Figure size 432x288 with 1 Axes>"
      ]
     },
     "metadata": {},
     "output_type": "display_data"
    }
   ],
   "source": [
    "plt.xlabel(\"Prima componente principale\")\n",
    "plt.ylabel(\"Seconda componente principale\")\n",
    "plt.scatter(X_pc[:,0], X_pc[:,1], c=y)"
   ]
  },
  {
   "cell_type": "markdown",
   "metadata": {},
   "source": [
    "Nonostante la riduzione da 13 a 2 proprietà la suddivisione delle classi all'interno del dataset è ben visibile."
   ]
  },
  {
   "cell_type": "markdown",
   "metadata": {},
   "source": [
    "### Quante componenti principali selezionare ?\n",
    "Nell'esempio, volendo costruire una visualizzazione, la scelta era forzata a 2 o 3, ma in altri casi vorremmo poter selezionare il numero di componenti principali che ci permettono di ridurre la complessità del modello mantenendo la maggior quantità possibile di informazione (cioè di varianza).\n",
    "<br><br>\n",
    "Per avere un'idea possiamo visualizzare graficamente la percentuale di varianza contenuta da ogni componente insieme alla varianza comulativa di tutte le possibili componenti, o di una parte di esse.\n",
    "<br><br> \n",
    "Per prima cosa dobbiamo prima creare tutte le componenti principali, possiamo farlo impostando il parametro <span style=\"font-family: Monaco\">n_components</span> a None."
   ]
  },
  {
   "cell_type": "code",
   "execution_count": 10,
   "metadata": {},
   "outputs": [
    {
     "data": {
      "text/plain": [
       "array([0.36198848, 0.1920749 , 0.11123631, 0.0706903 , 0.06563294,\n",
       "       0.04935823, 0.04238679, 0.02680749, 0.02222153, 0.01930019,\n",
       "       0.01736836, 0.01298233, 0.00795215])"
      ]
     },
     "execution_count": 10,
     "metadata": {},
     "output_type": "execute_result"
    }
   ],
   "source": [
    "from sklearn.decomposition import PCA\n",
    "\n",
    "pca = PCA(n_components=None)\n",
    "pc = pca.fit(X)\n",
    "pca.explained_variance_ratio_"
   ]
  },
  {
   "cell_type": "markdown",
   "metadata": {},
   "source": [
    "Adesso in <span style=\"font-family: Monaco\">pca</span> sono presenti le 13 componenti principali, <span style=\"font-family: Monaco\">explained_variance_ratio_</span> contiene la percentuale della varianza totale che ogni singola componente contiene.\n",
    "<br><br>\n",
    "Utilizziamo un grafico a barre in combinazione con uno step chart per visualizzare la varianza per ogni singola componente e la varianza cumulativa. Per eseguire una somma cumulativa possiamo usare la funzione <span style=\"font-family: Monaco\">cumsum</span> di Numpy."
   ]
  },
  {
   "cell_type": "code",
   "execution_count": 11,
   "metadata": {},
   "outputs": [
    {
     "data": {
      "image/png": "[encoded data removed]",
      "text/plain": [
       "<Figure size 432x288 with 1 Axes>"
      ]
     },
     "metadata": {},
     "output_type": "display_data"
    }
   ],
   "source": [
    "plt.bar(range(1, 14), pca.explained_variance_ratio_, align='center') # varianza per singola componente\n",
    "plt.step(range(1, 14), np.cumsum(pca.explained_variance_ratio_), where='mid') #varianza cumulativa\n",
    "plt.ylabel('Varianza')\n",
    "plt.xlabel('Componenti principali')\n",
    "plt.show()"
   ]
  },
  {
   "cell_type": "markdown",
   "metadata": {},
   "source": [
    "Come vedi la prima componente da sola contiene quasi il 40% della varianza, mentre le prime 4 insieme arrivano quasi al 80%."
   ]
  },
  {
   "cell_type": "markdown",
   "metadata": {
    "colab_type": "text",
    "id": "rW2oQiMnBM8i"
   },
   "source": [
    "# PCA per ridurre il tempo di addestramento\n",
    "Adesso vediamo come utilizzare la PCA per velocizzare la fase di addestramento comprimendo il numero di proprietà, cercando allo stesso tempo di mantenere buona parte della varianza.\n",
    "<br>\n",
    "A questo scopo utilizzeremo il MNIST dataset, il dataset di cifre scritte a mano, nella sua versione integrale con 70.000 esempi e 784 proprietà, una per ogni pixel dell'immagine."
   ]
  },
  {
   "cell_type": "markdown",
   "metadata": {},
   "source": [
    "Se non lo hai già fatto puoi scaricare il dataset da [questo sito](http://yann.lecun.com/exdb/mnist/), devi scaricare i seguenti 4 files:\n",
    " * train-images-idx3-ubyte.gz\n",
    " * train-labels-idx1-ubyte.gz\n",
    " * t10k-images-idx3-ubyte.gz\n",
    " * t10k-labels-idx1-ubyte.gz\n",
    " \n",
    "poi decomprimili e inseriscili all'interno di una cartella \"MNIST\", **senza rinominarli**.<br>\n",
    "I files con le proprietà contengono immagini in formato binario, quindi ho scritto una funzione che ti permette di ottenere direttamente gli array di train e test da questi files (la puoi trovare all'interno del file mnist.py)"
   ]
  },
  {
   "cell_type": "code",
   "execution_count": 12,
   "metadata": {
    "colab": {},
    "colab_type": "code",
    "id": "c3hiEKgxBSuN"
   },
   "outputs": [
    {
     "name": "stdout",
     "output_type": "stream",
     "text": [
      "Numero totale di proprietà: 784\n",
      "Esempi di training: 60000\n",
      "Esempi di test: 10000\n"
     ]
    }
   ],
   "source": [
    "from scripts.mnist import load_mnist\n",
    "\n",
    "X_train, X_test, Y_train, Y_test = load_mnist(path=\"MNIST\")\n",
    "print(\"Numero totale di proprietà: \"+str(X_train.shape[1]))\n",
    "print(\"Esempi di training: \"+str(X_train.shape[0]))\n",
    "print(\"Esempi di test: \"+str(X_test.shape[0]))"
   ]
  },
  {
   "cell_type": "markdown",
   "metadata": {},
   "source": [
    "Adesso dobbiamo portare i dati sulla stessa scala, che ripeto è **FONDAMENTALE** per il funzionamento del PCA, trattandosi di immagini dobbiamo eseguire la normalizzazione."
   ]
  },
  {
   "cell_type": "code",
   "execution_count": 13,
   "metadata": {},
   "outputs": [],
   "source": [
    "mms = MinMaxScaler()\n",
    "X_train = mms.fit_transform(X_train)\n",
    "X_test = mms.transform(X_test)"
   ]
  },
  {
   "cell_type": "markdown",
   "metadata": {},
   "source": [
    "Scriviamo una funzione che ci permetterà di creare e addestrare un modello di regressione logistica e di visualizzarne i risultati."
   ]
  },
  {
   "cell_type": "code",
   "execution_count": 14,
   "metadata": {},
   "outputs": [],
   "source": [
    "def make_lr(train_set, test_set):\n",
    "    \n",
    "    X_train, Y_train = train_set\n",
    "    X_test, Y_test = test_set\n",
    "    \n",
    "    lr = LogisticRegression(solver = 'lbfgs')\n",
    "\n",
    "    start_time = time.time()\n",
    "    lr.fit(X_train,Y_train)\n",
    "    end_time = time.time()\n",
    "\n",
    "    y_pred_train = lr.predict(X_train)\n",
    "    y_prob_train = lr.predict_proba(X_train)\n",
    "\n",
    "    y_pred = lr.predict(X_test)\n",
    "    y_prob = lr.predict_proba(X_test)\n",
    "\n",
    "    accuracy_train = accuracy_score(Y_train, y_pred_train)\n",
    "    accuracy_test = accuracy_score(Y_test, y_pred)\n",
    "\n",
    "    loss_train = log_loss(Y_train, y_prob_train)\n",
    "    loss_test = log_loss(Y_test, y_prob)\n",
    "\n",
    "    print(\"Numero di componenti: %d\" % X_train.shape[1])\n",
    "    print(\"Tempo di addestramento: %.4f secondi\" % (end_time-start_time))\n",
    "    print(\"ACCURACY: TRAIN=%.4f TEST=%.4f\" % (accuracy_train,accuracy_test))\n",
    "    print(\"LOG LOSS: TRAIN=%.4f TEST=%.4f\" % (loss_train,loss_test))"
   ]
  },
  {
   "cell_type": "markdown",
   "metadata": {},
   "source": [
    "Creiamo il modello senza utilizzare la PCA e osserviamo i risultati."
   ]
  },
  {
   "cell_type": "code",
   "execution_count": 15,
   "metadata": {},
   "outputs": [
    {
     "name": "stderr",
     "output_type": "stream",
     "text": [
      "C:\\Users\\peter\\Anaconda3\\lib\\site-packages\\sklearn\\linear_model\\_logistic.py:764: ConvergenceWarning: lbfgs failed to converge (status=1):\n",
      "STOP: TOTAL NO. of ITERATIONS REACHED LIMIT.\n",
      "\n",
      "Increase the number of iterations (max_iter) or scale the data as shown in:\n",
      "    https://scikit-learn.org/stable/modules/preprocessing.html\n",
      "Please also refer to the documentation for alternative solver options:\n",
      "    https://scikit-learn.org/stable/modules/linear_model.html#logistic-regression\n",
      "  extra_warning_msg=_LOGISTIC_SOLVER_CONVERGENCE_MSG)\n"
     ]
    },
    {
     "name": "stdout",
     "output_type": "stream",
     "text": [
      "Numero di componenti: 784\n",
      "Tempo di addestramento: 23.7456 secondi\n",
      "ACCURACY: TRAIN=0.9347 TEST=0.9251\n",
      "LOG LOSS: TRAIN=0.2375 TEST=0.2692\n"
     ]
    }
   ],
   "source": [
    "make_lr((X_train, Y_train),(X_test,Y_test))"
   ]
  },
  {
   "cell_type": "markdown",
   "metadata": {},
   "source": [
    "Un po' lento, adesso proviamo ad eseguire la PCA, questa volta piuttosto che specificare il numero di componenti specifichiamo il numero di varianza che vogliamo mantenere, sempre all'interno del costruttore."
   ]
  },
  {
   "cell_type": "code",
   "execution_count": 16,
   "metadata": {},
   "outputs": [],
   "source": [
    "from sklearn.decomposition import PCA\n",
    "\n",
    "pca = PCA(0.95)\n",
    "X_train_pca = pca.fit_transform(X_train)\n",
    "X_test_pca = pca.transform(X_test)"
   ]
  },
  {
   "cell_type": "code",
   "execution_count": 17,
   "metadata": {},
   "outputs": [
    {
     "name": "stdout",
     "output_type": "stream",
     "text": [
      "Numero di componenti: 154\n",
      "Tempo di addestramento: 9.0563 secondi\n",
      "ACCURACY: TRAIN=0.9274 TEST=0.9227\n",
      "LOG LOSS: TRAIN=0.2624 TEST=0.2703\n"
     ]
    },
    {
     "name": "stderr",
     "output_type": "stream",
     "text": [
      "C:\\Users\\peter\\Anaconda3\\lib\\site-packages\\sklearn\\linear_model\\_logistic.py:764: ConvergenceWarning: lbfgs failed to converge (status=1):\n",
      "STOP: TOTAL NO. of ITERATIONS REACHED LIMIT.\n",
      "\n",
      "Increase the number of iterations (max_iter) or scale the data as shown in:\n",
      "    https://scikit-learn.org/stable/modules/preprocessing.html\n",
      "Please also refer to the documentation for alternative solver options:\n",
      "    https://scikit-learn.org/stable/modules/linear_model.html#logistic-regression\n",
      "  extra_warning_msg=_LOGISTIC_SOLVER_CONVERGENCE_MSG)\n"
     ]
    }
   ],
   "source": [
    "make_lr((X_train_pca, Y_train),(X_test_pca, Y_test))"
   ]
  },
  {
   "cell_type": "markdown",
   "metadata": {},
   "source": [
    "Rinunciando solo al 5% di varianza abbiamo ridotto il tempo di addestramento di molto, nel mio caso di 4.5x (da 45 secondi a meno di 10). Anche le metriche del nostro modello sono lievemente peggiorate, ma questo è normale avendo ridotto l'informazione disponibile.\n",
    "<br><br>\n",
    "Adesso creiamo un loop per confrontare i risultati eseguendo la PCA con diversi valori per la varianza."
   ]
  },
  {
   "cell_type": "code",
   "execution_count": 18,
   "metadata": {},
   "outputs": [
    {
     "name": "stdout",
     "output_type": "stream",
     "text": [
      "Varianza: 0.99\n"
     ]
    },
    {
     "name": "stderr",
     "output_type": "stream",
     "text": [
      "C:\\Users\\peter\\Anaconda3\\lib\\site-packages\\sklearn\\linear_model\\_logistic.py:764: ConvergenceWarning: lbfgs failed to converge (status=1):\n",
      "STOP: TOTAL NO. of ITERATIONS REACHED LIMIT.\n",
      "\n",
      "Increase the number of iterations (max_iter) or scale the data as shown in:\n",
      "    https://scikit-learn.org/stable/modules/preprocessing.html\n",
      "Please also refer to the documentation for alternative solver options:\n",
      "    https://scikit-learn.org/stable/modules/linear_model.html#logistic-regression\n",
      "  extra_warning_msg=_LOGISTIC_SOLVER_CONVERGENCE_MSG)\n"
     ]
    },
    {
     "name": "stdout",
     "output_type": "stream",
     "text": [
      "Numero di componenti: 332\n",
      "Tempo di addestramento: 12.7754 secondi\n",
      "ACCURACY: TRAIN=0.9347 TEST=0.9244\n",
      "LOG LOSS: TRAIN=0.2373 TEST=0.2698\n",
      "------------------------------\n",
      "Varianza: 0.95\n"
     ]
    },
    {
     "name": "stderr",
     "output_type": "stream",
     "text": [
      "C:\\Users\\peter\\Anaconda3\\lib\\site-packages\\sklearn\\linear_model\\_logistic.py:764: ConvergenceWarning: lbfgs failed to converge (status=1):\n",
      "STOP: TOTAL NO. of ITERATIONS REACHED LIMIT.\n",
      "\n",
      "Increase the number of iterations (max_iter) or scale the data as shown in:\n",
      "    https://scikit-learn.org/stable/modules/preprocessing.html\n",
      "Please also refer to the documentation for alternative solver options:\n",
      "    https://scikit-learn.org/stable/modules/linear_model.html#logistic-regression\n",
      "  extra_warning_msg=_LOGISTIC_SOLVER_CONVERGENCE_MSG)\n"
     ]
    },
    {
     "name": "stdout",
     "output_type": "stream",
     "text": [
      "Numero di componenti: 154\n",
      "Tempo di addestramento: 9.2233 secondi\n",
      "ACCURACY: TRAIN=0.9274 TEST=0.9227\n",
      "LOG LOSS: TRAIN=0.2624 TEST=0.2703\n",
      "------------------------------\n",
      "Varianza: 0.90\n"
     ]
    },
    {
     "name": "stderr",
     "output_type": "stream",
     "text": [
      "C:\\Users\\peter\\Anaconda3\\lib\\site-packages\\sklearn\\linear_model\\_logistic.py:764: ConvergenceWarning: lbfgs failed to converge (status=1):\n",
      "STOP: TOTAL NO. of ITERATIONS REACHED LIMIT.\n",
      "\n",
      "Increase the number of iterations (max_iter) or scale the data as shown in:\n",
      "    https://scikit-learn.org/stable/modules/preprocessing.html\n",
      "Please also refer to the documentation for alternative solver options:\n",
      "    https://scikit-learn.org/stable/modules/linear_model.html#logistic-regression\n",
      "  extra_warning_msg=_LOGISTIC_SOLVER_CONVERGENCE_MSG)\n"
     ]
    },
    {
     "name": "stdout",
     "output_type": "stream",
     "text": [
      "Numero di componenti: 87\n",
      "Tempo di addestramento: 6.9670 secondi\n",
      "ACCURACY: TRAIN=0.9201 TEST=0.9191\n",
      "LOG LOSS: TRAIN=0.2841 TEST=0.2827\n",
      "------------------------------\n",
      "Varianza: 0.85\n"
     ]
    },
    {
     "name": "stderr",
     "output_type": "stream",
     "text": [
      "C:\\Users\\peter\\Anaconda3\\lib\\site-packages\\sklearn\\linear_model\\_logistic.py:764: ConvergenceWarning: lbfgs failed to converge (status=1):\n",
      "STOP: TOTAL NO. of ITERATIONS REACHED LIMIT.\n",
      "\n",
      "Increase the number of iterations (max_iter) or scale the data as shown in:\n",
      "    https://scikit-learn.org/stable/modules/preprocessing.html\n",
      "Please also refer to the documentation for alternative solver options:\n",
      "    https://scikit-learn.org/stable/modules/linear_model.html#logistic-regression\n",
      "  extra_warning_msg=_LOGISTIC_SOLVER_CONVERGENCE_MSG)\n"
     ]
    },
    {
     "name": "stdout",
     "output_type": "stream",
     "text": [
      "Numero di componenti: 59\n",
      "Tempo di addestramento: 8.2478 secondi\n",
      "ACCURACY: TRAIN=0.9136 TEST=0.9165\n",
      "LOG LOSS: TRAIN=0.3037 TEST=0.2960\n",
      "------------------------------\n",
      "Varianza: 0.75\n",
      "Numero di componenti: 34\n",
      "Tempo di addestramento: 6.4443 secondi\n",
      "ACCURACY: TRAIN=0.8982 TEST=0.9021\n",
      "LOG LOSS: TRAIN=0.3478 TEST=0.3350\n",
      "------------------------------\n"
     ]
    },
    {
     "name": "stderr",
     "output_type": "stream",
     "text": [
      "C:\\Users\\peter\\Anaconda3\\lib\\site-packages\\sklearn\\linear_model\\_logistic.py:764: ConvergenceWarning: lbfgs failed to converge (status=1):\n",
      "STOP: TOTAL NO. of ITERATIONS REACHED LIMIT.\n",
      "\n",
      "Increase the number of iterations (max_iter) or scale the data as shown in:\n",
      "    https://scikit-learn.org/stable/modules/preprocessing.html\n",
      "Please also refer to the documentation for alternative solver options:\n",
      "    https://scikit-learn.org/stable/modules/linear_model.html#logistic-regression\n",
      "  extra_warning_msg=_LOGISTIC_SOLVER_CONVERGENCE_MSG)\n"
     ]
    }
   ],
   "source": [
    "from sklearn.linear_model import LogisticRegression\n",
    "\n",
    "variances = [0.99, 0.95, 0.90, 0.85, 0.75]\n",
    "\n",
    "for variance in variances:\n",
    "    \n",
    "    print(\"Varianza: %.2f\" % variance)\n",
    "    \n",
    "    pca = PCA(variance)\n",
    "    X_train_pca = pca.fit_transform(X_train)\n",
    "    X_test_pca = pca.transform(X_test)\n",
    "    \n",
    "    make_lr((X_train_pca, Y_train),(X_test_pca, Y_test))\n",
    "    \n",
    "    print(\"------------------------------\")"
   ]
  },
  {
   "cell_type": "markdown",
   "metadata": {},
   "source": [
    "Riducendo il valore della varianza si riduce il numero di proprietà e quindi il numero di pesi da ottimizzare e ne segue che l'addestramento è più veloce, ma allo stesso tempo si perdono informazioni e quindi le performance del nostro modello peggioreranno."
   ]
  }
 ],
 "metadata": {
  "colab": {
   "collapsed_sections": [],
   "name": "PCA.ipynb",
   "provenance": [],
   "version": "0.3.2"
  },
  "kernelspec": {
   "display_name": "Python 3",
   "language": "python",
   "name": "python3"
  },
  "language_info": {
   "codemirror_mode": {
    "name": "ipython",
    "version": 3
   },
   "file_extension": ".py",
   "mimetype": "text/x-python",
   "name": "python",
   "nbconvert_exporter": "python",
   "pygments_lexer": "ipython3",
   "version": "3.7.6"
  }
 },
 "nbformat": 4,
 "nbformat_minor": 1
}
